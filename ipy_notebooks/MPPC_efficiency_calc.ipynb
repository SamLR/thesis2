{
 "metadata": {
  "name": "MPPC_efficiency_calc"
 },
 "nbformat": 3,
 "nbformat_minor": 0,
 "worksheets": [
  {
   "cells": [
    {
     "cell_type": "code",
     "collapsed": false,
     "input": [
      "a = ['1','2','3']\n",
      "t = ['12','13','23']\n",
      "\n",
      "for i in t:\n",
      "    print i, filter(lambda x: x not in i, a) "
     ],
     "language": "python",
     "metadata": {},
     "outputs": [
      {
       "output_type": "stream",
       "stream": "stdout",
       "text": [
        "12 ['3']\n",
        "13 ['2']\n",
        "23 ['1']\n"
       ]
      }
     ],
     "prompt_number": 2
    },
    {
     "cell_type": "code",
     "collapsed": false,
     "input": [
      "from MPPC_efficiency import readFile\n",
      "data = readFile('music_2_efficiency.txt')"
     ],
     "language": "python",
     "metadata": {},
     "outputs": [],
     "prompt_number": 3
    },
    {
     "cell_type": "code",
     "collapsed": false,
     "input": [
      "for g in data:\n",
      "    print g, data[g]['eff']"
     ],
     "language": "python",
     "metadata": {},
     "outputs": [
      {
       "output_type": "stream",
       "stream": "stdout",
       "text": [
        "12 4.93e-03 +/- 6.4e-05\n",
        "123 1.42e-03 +/- 3.5e-05\n",
        "13 4.79e-03 +/- 6.4e-05\n",
        "23 3.54e-03 +/- 5.6e-05\n"
       ]
      }
     ],
     "prompt_number": 4
    },
    {
     "cell_type": "code",
     "collapsed": false,
     "input": [
      "data"
     ],
     "language": "python",
     "metadata": {},
     "outputs": [
      {
       "output_type": "pyout",
       "prompt_number": 5,
       "text": [
        "{'12': {'eff': ValueWithError(value=0.004925,error=0.000064),\n",
        "  'mppc_count': 6055.0,\n",
        "  'mppc_rate': ValueWithError(value=0.065573,error=0.000844),\n",
        "  'pmt_count': 1229389.0,\n",
        "  'pmt_rate': ValueWithError(value=13.313721,error=0.014799),\n",
        "  'run_time': ValueWithError(value=92340.000000,error=60.000000)},\n",
        " '123': {'eff': ValueWithError(value=0.001422,error=0.000035),\n",
        "  'mppc_count': 1651.0,\n",
        "  'mppc_rate': ValueWithError(value=0.019202,error=0.000473),\n",
        "  'pmt_count': 1161165.0,\n",
        "  'pmt_rate': ValueWithError(value=13.505059,error=0.015681),\n",
        "  'run_time': ValueWithError(value=85980.000000,error=60.000000)},\n",
        " '13': {'eff': ValueWithError(value=0.004794,error=0.000064),\n",
        "  'mppc_count': 5653.0,\n",
        "  'mppc_rate': ValueWithError(value=0.064888,error=0.000864),\n",
        "  'pmt_count': 1179116.0,\n",
        "  'pmt_rate': ValueWithError(value=13.534389,error=0.015564),\n",
        "  'run_time': ValueWithError(value=87120.000000,error=60.000000)},\n",
        " '23': {'eff': ValueWithError(value=0.003542,error=0.000056),\n",
        "  'mppc_count': 3999.0,\n",
        "  'mppc_rate': ValueWithError(value=0.047404,error=0.000750),\n",
        "  'pmt_count': 1129137.0,\n",
        "  'pmt_rate': ValueWithError(value=13.384744,error=0.015789),\n",
        "  'run_time': ValueWithError(value=84360.000000,error=60.000000)}}"
       ]
      }
     ],
     "prompt_number": 5
    },
    {
     "cell_type": "code",
     "collapsed": false,
     "input": [
      "from math import pi\n",
      "a = data['123']['eff']/data['23']['eff']\n",
      "b = data['123']['eff']/data['13']['eff']\n",
      "c = data['123']['eff']/data['12']['eff']\n",
      "print '{a.value:.4f} {a.error:.4f}\\n{b.value:.4f} {b.error:.4f}\\n{c.value:.4f} {c.error:.4f}\\n'.format(a=a,b=b,c=c)\n",
      "print '{a.value:.4f} {a.error:.4f}'.format(a=a*b*c)\n",
      "print '{a.value:.4f} {a.error:.5f}'.format(a=data['123']['eff'])\n",
      "print '{a.value:.4f} {a.error:.4f}'.format(a=((40.0**2)/(pi*3.5**2))*data['123']['eff'])"
     ],
     "language": "python",
     "metadata": {},
     "outputs": [
      {
       "output_type": "stream",
       "stream": "stdout",
       "text": [
        "0.4015 0.0118\n",
        "0.2966 0.0083\n",
        "0.2887 0.0080\n",
        "\n",
        "0.0344 0.0017\n",
        "0.0014 0.00004\n",
        "0.0591 0.0015\n"
       ]
      }
     ],
     "prompt_number": 6
    },
    {
     "cell_type": "code",
     "collapsed": false,
     "input": [
      "vs = [(data['12']['eff']*data['13']['eff']/data['23']['eff'])**0.5,\n",
      "      (data['23']['eff']*data['12']['eff']/data['13']['eff'])**0.5,\n",
      "      (data['23']['eff']*data['13']['eff']/data['12']['eff'])**0.5]\n",
      "fmt = \"{i.value:7.5f} & {i.error:8.6f}\"\n",
      "for i in vs:\n",
      "    print fmt.format(i=i)"
     ],
     "language": "python",
     "metadata": {},
     "outputs": [
      {
       "output_type": "stream",
       "stream": "stdout",
       "text": [
        "0.08165 & 0.00099792\n",
        "0.06032 & 0.00073719\n",
        "0.05872 & 0.00071759\n"
       ]
      }
     ],
     "prompt_number": 11
    },
    {
     "cell_type": "code",
     "collapsed": false,
     "input": [],
     "language": "python",
     "metadata": {},
     "outputs": [],
     "prompt_number": 7
    }
   ],
   "metadata": {}
  }
 ]
}