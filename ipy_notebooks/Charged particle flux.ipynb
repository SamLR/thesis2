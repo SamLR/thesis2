{
 "metadata": {
  "name": "Charged particle flux"
 },
 "nbformat": 3,
 "nbformat_minor": 0,
 "worksheets": [
  {
   "cells": [
    {
     "cell_type": "code",
     "collapsed": false,
     "input": [
      "from ValueWithError import ValueWithError as Value\n",
      "# 2D data at the bottom"
     ],
     "language": "python",
     "metadata": {},
     "outputs": [],
     "prompt_number": 9
    },
    {
     "cell_type": "code",
     "collapsed": false,
     "input": [
      "def make_values (v, t, s_c):\n",
      "    for e in v:\n",
      "        e['s_c']=s_c\n",
      "        for rate_key in (\"v\",\"v_off\",\"s\",\"s_off\"):\n",
      "            # make ValueWithError and convert to Hz\n",
      "            raw_key = rate_key + '_r'\n",
      "            time_key = rate_key + '_t'\n",
      "            e[raw_key] = Value(e[raw_key])\n",
      "            e[rate_key] = e[raw_key]/e[time_key]\n"
     ],
     "language": "python",
     "metadata": {},
     "outputs": [],
     "prompt_number": 10
    },
    {
     "cell_type": "code",
     "collapsed": false,
     "input": [
      "def set_factor (v,factor):\n",
      "    for e in v:\n",
      "        if e[\"k\"] > 1:\n",
      "            e[\"k\"] = factor\n",
      "        else:\n",
      "            e['k'] = Value(1.0, 0.0)"
     ],
     "language": "python",
     "metadata": {},
     "outputs": [],
     "prompt_number": 11
    },
    {
     "cell_type": "code",
     "collapsed": false,
     "input": [
      "def get_flux(v,v_off,s,s_off,s_c,k, *args,**kwargs): # (kw)args to dodge unknow variable complaints\n",
      "    count =k*(v-v_off)\n",
      "    current =s_c*(s-s_off) \n",
      "    return count/current\n",
      "\n",
      "def get_all_flux(v):\n",
      "    for e in v:\n",
      "        e['f']=get_flux(**e)"
     ],
     "language": "python",
     "metadata": {},
     "outputs": [],
     "prompt_number": 12
    },
    {
     "cell_type": "code",
     "collapsed": false,
     "input": [
      "def pretty_print(v):\n",
      "    fmt = \"{pos}  &  {v_r.value:7.0f}  &  {v_off_r.value:5.2f}  &  {s_r.value:5.1f}  &  {s_off_r.value:4.2f}  &  \"+\\\n",
      "          \"{k.value:5.3f}  &  {k.error:5.3f}  &  {f.value:5.0f}  &  {f.error:5.1f} \\\\\\\\\"\n",
      "    print \"pos  &  v_r  &  v_off_r  &  s_r  &  s_off_r  &  k  &  k.er  &  f  &  f.er\"\n",
      "    for e in v:\n",
      "        print fmt.format(**e)"
     ],
     "language": "python",
     "metadata": {},
     "outputs": [],
     "prompt_number": 19
    },
    {
     "cell_type": "code",
     "collapsed": false,
     "input": [
      "def do_it_all(v, t, s_c, cf_index1, cf_index2):\n",
      "    make_values(v,t, s_c)\n",
      "    # Calculate the scaling factor and save it as required\n",
      "    factor = (v[cf_index1][\"v\"]-v[cf_index1][\"v_off\"])/(v[cf_index2][\"v\"]-v[cf_index2][\"v_off\"])\n",
      "    print \"scaling factor: {:5.3f} +/- {:3.1f}\\n\".format(factor.value, factor.error)\n",
      "    set_factor(v, factor)\n",
      "    # Now calculate the fully adjusted flux\n",
      "    get_all_flux(v)\n",
      "    pretty_print(v)"
     ],
     "language": "python",
     "metadata": {},
     "outputs": [],
     "prompt_number": 20
    },
    {
     "cell_type": "code",
     "collapsed": false,
     "input": [
      "# Convert the basic 1D data into an appropriate form & calculated errors etc.\n",
      "v = [{\"pos\":\"  0\", \"v_r\": 2151736, \"v_off_r\":30, \"s_r\":1255, \"s_off_r\":381, \"k\":1},\n",
      "     {\"pos\":\" -5\", \"v_r\": 1438685, \"v_off_r\":30, \"s_r\":1286, \"s_off_r\":381, \"k\":1},\n",
      "     {\"pos\":\"-15\", \"v_r\":  446302, \"v_off_r\":30, \"s_r\":1212, \"s_off_r\":381, \"k\":1},\n",
      "     {\"pos\":\"-15\", \"v_r\":  502596, \"v_off_r\":30, \"s_r\":1208, \"s_off_r\":381, \"k\":1},\n",
      "     {\"pos\":\"  5\", \"v_r\": 1663702, \"v_off_r\":83, \"s_r\":1298, \"s_off_r\":398, \"k\":1.646},\n",
      "     {\"pos\":\"  5\", \"v_r\": 1420836, \"v_off_r\":83, \"s_r\":1142, \"s_off_r\":398, \"k\":1.646},\n",
      "     {\"pos\":\" 15\", \"v_r\": 1080170, \"v_off_r\":83, \"s_r\":1336, \"s_off_r\":398, \"k\":1.646},\n",
      "     {\"pos\":\" 15\", \"v_r\": 1185051, \"v_off_r\":83, \"s_r\":1371, \"s_off_r\":398, \"k\":1.646},\n",
      "     {\"pos\":\"  0\", \"v_r\": 1307015, \"v_off_r\":34, \"s_r\":1298, \"s_off_r\":404, \"k\":1.646}]\n",
      "t = Value(50, 0.5) # how long the count was taken for\n",
      "for i in v: \n",
      "    for c in ('v_t','v_off_t','s_t','s_off_t'):\n",
      "        i[c] = t\n",
      "s_c = 0.03408 # conversion from SEC to current (in nA)\n",
      "do_it_all(v,t,s_c,0,-1)"
     ],
     "language": "python",
     "metadata": {},
     "outputs": [
      {
       "output_type": "stream",
       "stream": "stdout",
       "text": [
        "scaling factor: 1.646 +/- 0.0\n",
        "\n",
        "pos  &  v_r  &  v_off_r  &  s_r  &  s_off_r  &  k  &  k.er  &  f  &  f.er\n",
        "  0  &  2151736  &  30.00  &  1255.0  &  381.00  &  1.000  &  0.000  &  72239  &  3588.3 \\\\\n",
        " -5  &  1438685  &  30.00  &  1286.0  &  381.00  &  1.000  &  0.000  &  46645  &  2264.0 \\\\\n",
        "-15  &   446302  &  30.00  &  1212.0  &  381.00  &  1.000  &  0.000  &  15758  &  810.1 \\\\\n",
        "-15  &   502596  &  30.00  &  1208.0  &  381.00  &  1.000  &  0.000  &  17832  &  919.7 \\\\\n",
        "  5  &  1663702  &  83.00  &  1298.0  &  398.00  &  1.646  &  0.023  &  89295  &  4573.4 \\\\\n",
        "  5  &  1420836  &  83.00  &  1142.0  &  398.00  &  1.646  &  0.023  &  92249  &  5337.9 \\\\\n",
        " 15  &  1080170  &  83.00  &  1336.0  &  398.00  &  1.646  &  0.023  &  55625  &  2777.8 \\\\\n",
        " 15  &  1185051  &  83.00  &  1371.0  &  398.00  &  1.646  &  0.023  &  58831  &  2873.7 \\\\\n",
        "  0  &  1307015  &  34.00  &  1298.0  &  404.00  &  1.646  &  0.023  &  70623  &  3644.3 \\\\\n"
       ]
      }
     ],
     "prompt_number": 21
    },
    {
     "cell_type": "code",
     "collapsed": false,
     "input": [
      "v2 = [{\"pos\":\"  0 &   0\", \"v_t\":20, \"v_r\": 68761, \"v_off_t\":11, \"v_off_r\": 58, \"s_r\":51, \"k\":1.0},\n",
      "      {\"pos\":\"-17 &  20\", \"v_t\":20, \"v_r\":117947, \"v_off_t\":11, \"v_off_r\": 58, \"s_r\":51, \"k\":1.0},\n",
      "      {\"pos\":\"-17 & -16\", \"v_t\":20, \"v_r\": 39528, \"v_off_t\":20, \"v_off_r\": 48, \"s_r\":68, \"k\":1.0},\n",
      "      {\"pos\":\"-17 &   0\", \"v_t\":20, \"v_r\": 97190, \"v_off_t\":20, \"v_off_r\": 78, \"s_r\":73, \"k\":1.0},\n",
      "      {\"pos\":\" 17 &   0\", \"v_t\":20, \"v_r\": 63160, \"v_off_t\":20, \"v_off_r\": 91, \"s_r\":76, \"k\":1.0},\n",
      "      {\"pos\":\" 17 &  20\", \"v_t\":20, \"v_r\":105097, \"v_off_t\":20, \"v_off_r\": 88, \"s_r\":71, \"k\":1.0},\n",
      "      {\"pos\":\" 17 & -16\", \"v_t\":20, \"v_r\": 27010, \"v_off_t\":20, \"v_off_r\": 55, \"s_r\":67, \"k\":1.0},\n",
      "      {\"pos\":\"  0 & -16\", \"v_t\":20, \"v_r\": 43634, \"v_off_t\":20, \"v_off_r\": 97, \"s_r\":69, \"k\":1.0},\n",
      "      {\"pos\":\"  0 &  20\", \"v_t\":20, \"v_r\":142536, \"v_off_t\":20, \"v_off_r\": 73, \"s_r\":64, \"k\":1.0},\n",
      "      {\"pos\":\"  0 &   0\", \"v_t\":20, \"v_r\": 75376, \"v_off_t\":20, \"v_off_r\": 60, \"s_r\":66, \"k\":1.0},\n",
      "      {\"pos\":\"  0 &  25\", \"v_t\":20, \"v_r\": 45950, \"v_off_t\":20, \"v_off_r\": 35, \"s_r\":46, \"k\":9.9},\n",
      "      {\"pos\":\"-17 &  25\", \"v_t\":20, \"v_r\": 69582, \"v_off_t\":20, \"v_off_r\":119, \"s_r\":47, \"k\":9.9},\n",
      "      {\"pos\":\"  0 &  20\", \"v_t\":20, \"v_r\": 80088, \"v_off_t\":20, \"v_off_r\":238, \"s_r\":60, \"k\":9.9}]\n",
      "s_c2 = 0.01514\n",
      "for i in v2: \n",
      "    i['s_off_r']=9\n",
      "    for c in ('s_t','s_off_t'):\n",
      "        i[c] = Value(1,0)\n",
      "    for c in ('v_t', 'v_off_t'):\n",
      "        i[c] = Value(i[c],0)\n",
      "do_it_all(v2,t2,s_c2,8,-1)"
     ],
     "language": "python",
     "metadata": {},
     "outputs": [
      {
       "output_type": "stream",
       "stream": "stdout",
       "text": [
        "2.50e+00 +/- 1.1e+00\n",
        "scaling factor: 1.784 +/- 0.0\n",
        "\n",
        "pos  &  v_r  &  v_off_r  &  s_r  &  s_off_r  &  k  &  k.er  &  f  &  f.er\n",
        "  0 &   0  &    68761  &  58.00  &   51.0  &  9.00  &  1.000  &  0.000  &   5398  &  995.8 \\\\\n",
        "-17 &  20  &   117947  &  58.00  &   51.0  &  9.00  &  1.000  &  0.000  &   9266  &  1709.1 \\\\\n",
        "-17 & -16  &    39528  &  48.00  &   68.0  &  9.00  &  1.000  &  0.000  &   2210  &  328.9 \\\\\n",
        "-17 &   0  &    97190  &  78.00  &   73.0  &  9.00  &  1.000  &  0.000  &   5011  &  709.2 \\\\\n",
        " 17 &   0  &    63160  &  91.00  &   76.0  &  9.00  &  1.000  &  0.000  &   3109  &  428.0 \\\\\n",
        " 17 &  20  &   105097  &  88.00  &   71.0  &  9.00  &  1.000  &  0.000  &   5593  &  807.1 \\\\\n",
        " 17 & -16  &    27010  &  55.00  &   67.0  &  9.00  &  1.000  &  0.000  &   1535  &  230.9 \\\\\n",
        "  0 & -16  &    43634  &  97.00  &   69.0  &  9.00  &  1.000  &  0.000  &   2396  &  352.9 \\\\\n",
        "  0 &  20  &   142536  &  73.00  &   64.0  &  9.00  &  1.000  &  0.000  &   8554  &  1329.1 \\\\\n",
        "  0 &   0  &    75376  &  60.00  &   66.0  &  9.00  &  1.000  &  0.000  &   4364  &  663.2 \\\\\n",
        "  0 &  25  &    45950  &  35.00  &   46.0  &  9.00  &  1.784  &  0.008  &   7312  &  1466.3 \\\\\n",
        "-17 &  25  &    69582  &  119.00  &   47.0  &  9.00  &  1.784  &  0.008  &  10771  &  2122.0 \\\\\n",
        "  0 &  20  &    80088  &  238.00  &   60.0  &  9.00  &  1.784  &  0.008  &   9225  &  1503.5 \\\\\n"
       ]
      }
     ],
     "prompt_number": 25
    },
    {
     "cell_type": "code",
     "collapsed": false,
     "input": [
      "count = 1.0*(75376.0/20-60.0/20)/(0.01514*(66.0-9.0))\n",
      "print count"
     ],
     "language": "python",
     "metadata": {},
     "outputs": [
      {
       "output_type": "stream",
       "stream": "stdout",
       "text": [
        "4363.71642448\n"
       ]
      }
     ],
     "prompt_number": 30
    },
    {
     "cell_type": "code",
     "collapsed": false,
     "input": [],
     "language": "python",
     "metadata": {},
     "outputs": []
    }
   ],
   "metadata": {}
  }
 ]
}