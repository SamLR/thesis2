{
 "metadata": {
  "name": "",
  "signature": "sha256:80128a6d56dc1ab05d36e06050ea22e4685b5b37c637bc3ba5bdc2e16c62f280"
 },
 "nbformat": 3,
 "nbformat_minor": 0,
 "worksheets": [
  {
   "cells": [
    {
     "cell_type": "markdown",
     "metadata": {},
     "source": [
      "## Aim ##\n",
      "Calculation of the total muon flux as measured by each run then as a combined measurement"
     ]
    },
    {
     "cell_type": "code",
     "collapsed": false,
     "input": [
      "from ValueWithError import ValueWithError"
     ],
     "language": "python",
     "metadata": {},
     "outputs": [],
     "prompt_number": 3
    },
    {
     "cell_type": "code",
     "collapsed": false,
     "input": [
      "total_muons = ValueWithError(95719)\n",
      "\n",
      "n_muons_sim = {  \n",
      "            '448': ValueWithError(7809),\n",
      "            '451': ValueWithError(7041),\n",
      "            '452': ValueWithError(7041),\n",
      "            '455': ValueWithError(6453),\n",
      "            '458': ValueWithError(4465),\n",
      "            '459': ValueWithError(4465),\n",
      "             }\n",
      "\n",
      "\n",
      "n_muons_sim_comb = {  \n",
      "            '45': ValueWithError(7809),\n",
      "            '50': ValueWithError(7041),\n",
      "            '52': ValueWithError(6453),\n",
      "            '66': ValueWithError(4465),\n",
      "             }\n",
      "\n",
      "beam_fraction = {k: v/total_muons for k,v in n_muons_sim.items()}\n",
      "beam_fraction_comb = {k: v/total_muons for k,v in n_muons_sim_comb.items()}\n",
      "for k in (\"448\", \"451\", \"452\", \"455\", \"458\", \"459\"):\n",
      "    print \"{k:5s} {v.value: 6.3f}% {v.error: 6.3f}%\".format(k=k, v=beam_fraction[k]*100)"
     ],
     "language": "python",
     "metadata": {},
     "outputs": [
      {
       "output_type": "stream",
       "stream": "stdout",
       "text": [
        "448    8.158%  0.096%\n",
        "451    7.356%  0.091%\n",
        "452    7.356%  0.091%\n",
        "455    6.742%  0.087%\n",
        "458    4.665%  0.071%\n",
        "459    4.665%  0.071%\n"
       ]
      }
     ],
     "prompt_number": 46
    },
    {
     "cell_type": "code",
     "collapsed": false,
     "input": [
      "rates_f = {\n",
      "        \"448\":  ValueWithError(6065, 15),\n",
      "        \"451\":  ValueWithError(4080, 33),\n",
      "        \"452\":  ValueWithError(4161, 15),\n",
      "        \"455\":  ValueWithError(3847, 13),\n",
      "        \"458\":  ValueWithError(2502, 10),\n",
      "        \"459\":  ValueWithError(2550, 15)\n",
      "        }\n",
      "\n",
      "rates_cu = {\n",
      "        \"448\":  ValueWithError(228.5, 4.6),\n",
      "        \"451\":  ValueWithError(180.2, 10.3),\n",
      "        \"452\":  ValueWithError(193.6, 5.0),\n",
      "        \"455\":  ValueWithError(186.6, 4.1),\n",
      "        \"458\":  ValueWithError(160.1, 3.5),\n",
      "        \"459\":  ValueWithError(172.1, 5.3)\n",
      "        }\n",
      "\n",
      "rates_sum = {k: v+rates_cu[k] for k,v in rates_f.items() }\n",
      "\n",
      "efficiency = ValueWithError(0.431, 0.134)**2  #ValueWithError(0.431, 0.067)**2\n",
      "acceptance = ValueWithError(8362)/ValueWithError(10500)"
     ],
     "language": "python",
     "metadata": {},
     "outputs": [],
     "prompt_number": 47
    },
    {
     "cell_type": "code",
     "collapsed": false,
     "input": [
      "def print_loop(rate_dict, keys = (\"448\", \"451\", \"452\", \"455\", \"458\", \"459\"), fraction=beam_fraction):\n",
      "    x = acceptance*efficiency\n",
      "    print \"id  &  rate & rateE  &  adjusted & adj_er    &  scaled   & scaledE   &  adjscale\"\n",
      "    fmt = \"{fid:3s} & {a.value:5.0f} & {a.error:5.0f}  &  {b.value:8.2e} & {b.error:8.2e}  &  \"+\\\n",
      "            \"{c.value:8.3e} & {c.error:8.2e}  &  {d.value:8.2e} & {d.error:8.2e}  &  {e.value:8.2e} & {e.error:8.2e}\"\n",
      "    summed = ValueWithError(0)\n",
      "    for fid in keys:\n",
      "        adj = rate_dict[fid]/x\n",
      "        scaled = 1000*rate_dict[fid]/fraction[fid] \n",
      "        adj_scaled = 1000*adj/fraction[fid]\n",
      "        summed += adj_scaled\n",
      "        print fmt.format(fid=fid, a=rate_dict[fid], b=adj, c=scaled, d=adj_scaled, e=adj_scaled/400)\n",
      "    print \"{d.value:8.2e} & {d.error:8.2e}\".format(d=summed/len(keys))\n",
      "    print \"{d.value:8.3e} & {d.error:8.3e}\".format(d=summed/len(keys)/400)"
     ],
     "language": "python",
     "metadata": {},
     "outputs": [],
     "prompt_number": 62
    },
    {
     "cell_type": "code",
     "collapsed": false,
     "input": [
      "print u\"Acceptance: ({a.value:.1f} \\u00B1 {a.error:0.1f})%\".format(a = 100*acceptance)\n",
      "print u\"Efficiency: ({e.value:.1f} \\u00B1 {e.error:0.1f})%\".format(e = 100*efficiency)\n",
      "\n",
      "print '\\n', \"*\"*40, '\\n'\n",
      "\n",
      "print_loop(rates_f)\n",
      "print '\\n', \"*\"*40, '\\n'\n",
      "print_loop(rates_cu)\n",
      "\n",
      "print '\\n', \"*\"*40, '\\n'\n",
      "print_loop(rates_sum)\n"
     ],
     "language": "python",
     "metadata": {},
     "outputs": [
      {
       "output_type": "stream",
       "stream": "stdout",
       "text": [
        "Acceptance: (79.6 \u00b1 1.2)%\n",
        "Efficiency: (18.6 \u00b1 11.6)%\n",
        "\n",
        "**************************************** \n",
        "\n",
        "id  &  rate & rateE  &  adjusted & adj_er    &  scaled   & scaledE   &  adjscale\n",
        "448 &  6065 &    15  &  4.10e+04 & 2.55e+04  &  7.434e+07 & 8.94e+05  &  5.03e+08 & 3.13e+08  &  1.26e+06 & 7.82e+05\n",
        "451 &  4080 &    33  &  2.76e+04 & 1.72e+04  &  5.547e+07 & 8.19e+05  &  3.75e+08 & 2.33e+08  &  9.37e+05 & 5.83e+05\n",
        "452 &  4161 &    15  &  2.81e+04 & 1.75e+04  &  5.657e+07 & 7.28e+05  &  3.82e+08 & 2.38e+08  &  9.56e+05 & 5.95e+05\n",
        "455 &  3847 &    13  &  2.60e+04 & 1.62e+04  &  5.706e+07 & 7.59e+05  &  3.86e+08 & 2.40e+08  &  9.64e+05 & 6.00e+05\n",
        "458 &  2502 &    10  &  1.69e+04 & 1.05e+04  &  5.364e+07 & 8.49e+05  &  3.63e+08 & 2.26e+08  &  9.06e+05 & 5.64e+05\n",
        "459 &  2550 &    15  &  1.72e+04 & 1.07e+04  &  5.467e+07 & 8.97e+05  &  3.70e+08 & 2.30e+08  &  9.24e+05 & 5.75e+05\n",
        "3.96e+08 & 1.01e+08\n",
        "9.907e+05 & 2.535e+05\n",
        "\n",
        "**************************************** \n",
        "\n",
        "id  &  rate & rateE  &  adjusted & adj_er    &  scaled   & scaledE   &  adjscale\n",
        "448 &   228 &     5  &  1.54e+03 & 9.61e+02  &  2.801e+06 & 6.53e+04  &  1.89e+07 & 1.18e+07  &  4.73e+04 & 2.95e+04\n",
        "451 &   180 &    10  &  1.22e+03 & 7.61e+02  &  2.450e+06 & 1.43e+05  &  1.66e+07 & 1.03e+07  &  4.14e+04 & 2.59e+04\n",
        "452 &   194 &     5  &  1.31e+03 & 8.15e+02  &  2.632e+06 & 7.53e+04  &  1.78e+07 & 1.11e+07  &  4.45e+04 & 2.77e+04\n",
        "455 &   187 &     4  &  1.26e+03 & 7.85e+02  &  2.768e+06 & 7.05e+04  &  1.87e+07 & 1.16e+07  &  4.68e+04 & 2.91e+04\n",
        "458 &   160 &     4  &  1.08e+03 & 6.74e+02  &  3.432e+06 & 9.16e+04  &  2.32e+07 & 1.44e+07  &  5.80e+04 & 3.61e+04\n",
        "459 &   172 &     5  &  1.16e+03 & 7.24e+02  &  3.689e+06 & 1.27e+05  &  2.49e+07 & 1.55e+07  &  6.23e+04 & 3.88e+04\n",
        "2.00e+07 & 5.15e+06\n",
        "5.006e+04 & 1.287e+04\n",
        "\n",
        "**************************************** \n",
        "\n",
        "id  &  rate & rateE  &  adjusted & adj_er    &  scaled   & scaledE   &  adjscale\n",
        "448 &  6294 &    16  &  4.25e+04 & 2.65e+04  &  7.714e+07 & 9.28e+05  &  5.21e+08 & 3.24e+08  &  1.30e+06 & 8.11e+05\n",
        "451 &  4260 &    35  &  2.88e+04 & 1.79e+04  &  5.792e+07 & 8.56e+05  &  3.91e+08 & 2.44e+08  &  9.79e+05 & 6.09e+05\n",
        "452 &  4355 &    16  &  2.94e+04 & 1.83e+04  &  5.920e+07 & 7.62e+05  &  4.00e+08 & 2.49e+08  &  1.00e+06 & 6.22e+05\n",
        "455 &  4034 &    14  &  2.73e+04 & 1.70e+04  &  5.983e+07 & 7.96e+05  &  4.04e+08 & 2.52e+08  &  1.01e+06 & 6.29e+05\n",
        "458 &  2662 &    11  &  1.80e+04 & 1.12e+04  &  5.707e+07 & 9.03e+05  &  3.86e+08 & 2.40e+08  &  9.64e+05 & 6.00e+05\n",
        "459 &  2722 &    16  &  1.84e+04 & 1.14e+04  &  5.836e+07 & 9.56e+05  &  3.94e+08 & 2.45e+08  &  9.86e+05 & 6.14e+05\n",
        "4.16e+08 & 1.06e+08\n",
        "1.041e+06 & 2.660e+05\n"
       ]
      }
     ],
     "prompt_number": 63
    },
    {
     "cell_type": "code",
     "collapsed": false,
     "input": [
      "rate_per_deg_f = {'45': rates_f['448'],\n",
      "                  '50':(rates_f['451']+rates_f['452'])/2,\n",
      "                  '52': rates_f['455'],\n",
      "                  '66':(rates_f['458']+rates_f['459'])/2,}\n",
      "\n",
      "rate_per_deg_cu = {'45': rates_cu['448'],\n",
      "                   '50':(rates_cu['451']+rates_cu['452'])/2,\n",
      "                   '52': rates_cu['455'],\n",
      "                   '66':(rates_cu['458']+rates_cu['459'])/2,}\n",
      "\n",
      "rate_per_deg_summed = {k: v + rate_per_deg_cu[k] for k,v in rate_per_deg_f.items()}"
     ],
     "language": "python",
     "metadata": {},
     "outputs": [],
     "prompt_number": 58
    },
    {
     "cell_type": "code",
     "collapsed": false,
     "input": [
      "print u\"Acceptance: ({a.value:.1f} \\u00B1 {a.error:0.1f})%\".format(a = 100*acceptance)\n",
      "print u\"Efficiency: ({e.value:.1f} \\u00B1 {e.error:0.1f})%\".format(e = 100*efficiency)\n",
      "\n",
      "print '\\n', \"*\"*40, '\\n'\n",
      "\n",
      "print_loop(rate_per_deg_f, keys=(\"45\", \"50\", \"52\", \"66\"), fraction=beam_fraction_comb)\n",
      "print '\\n', \"*\"*40, '\\n'\n",
      "print_loop(rate_per_deg_cu, keys=(\"45\", \"50\", \"52\", \"66\"), fraction=beam_fraction_comb)\n",
      "\n",
      "print '\\n', \"*\"*40, '\\n'\n",
      "print_loop(rate_per_deg_summed, keys=(\"45\", \"50\", \"52\", \"66\"), fraction=beam_fraction_comb)"
     ],
     "language": "python",
     "metadata": {},
     "outputs": [
      {
       "output_type": "stream",
       "stream": "stdout",
       "text": [
        "Acceptance: (79.6 \u00b1 1.2)%\n",
        "Efficiency: (18.6 \u00b1 11.6)%\n",
        "\n",
        "**************************************** \n",
        "\n",
        "id  &  rate & rateE  &  adjusted & adj_er    &  scaled   & scaledE   &  adjscale\n",
        "45  &  6065 &    15  &  4.10e+04 & 2.55e+04  &  7.43e+07 & 8.94e+05  &  5.03e+08 & 3.13e+08  &  1.26e+06 & 7.82e+05\n",
        "50  &  4120 &    18  &  2.79e+04 & 1.73e+04  &  5.60e+07 & 7.34e+05  &  3.79e+08 & 2.36e+08  &  9.47e+05 & 5.89e+05\n",
        "52  &  3847 &    13  &  2.60e+04 & 1.62e+04  &  5.71e+07 & 7.59e+05  &  3.86e+08 & 2.40e+08  &  9.64e+05 & 6.00e+05\n",
        "66  &  2526 &     9  &  1.71e+04 & 1.06e+04  &  5.42e+07 & 8.51e+05  &  3.66e+08 & 2.28e+08  &  9.15e+05 & 5.69e+05\n",
        "4.08e+08 & 1.28e+08\n",
        "1.02e+06 & 3.20e+05\n",
        "\n",
        "**************************************** \n",
        "\n",
        "id  &  rate & rateE  &  adjusted & adj_er    &  scaled   & scaledE   &  adjscale\n",
        "45  &   228 &     5  &  1.54e+03 & 9.61e+02  &  2.80e+06 & 6.53e+04  &  1.89e+07 & 1.18e+07  &  4.73e+04 & 2.95e+04\n",
        "50  &   187 &     6  &  1.26e+03 & 7.87e+02  &  2.54e+06 & 8.39e+04  &  1.72e+07 & 1.07e+07  &  4.29e+04 & 2.67e+04\n",
        "52  &   187 &     4  &  1.26e+03 & 7.85e+02  &  2.77e+06 & 7.05e+04  &  1.87e+07 & 1.16e+07  &  4.68e+04 & 2.91e+04\n",
        "66  &   166 &     3  &  1.12e+03 & 6.99e+02  &  3.56e+06 & 8.72e+04  &  2.41e+07 & 1.50e+07  &  6.02e+04 & 3.75e+04\n",
        "1.97e+07 & 6.19e+06\n",
        "4.93e+04 & 1.55e+04\n",
        "\n",
        "**************************************** \n",
        "\n",
        "id  &  rate & rateE  &  adjusted & adj_er    &  scaled   & scaledE   &  adjscale\n",
        "45  &  6294 &    16  &  4.25e+04 & 2.65e+04  &  7.71e+07 & 9.28e+05  &  5.21e+08 & 3.24e+08  &  1.30e+06 & 8.11e+05\n",
        "50  &  4307 &    19  &  2.91e+04 & 1.81e+04  &  5.86e+07 & 7.68e+05  &  3.96e+08 & 2.46e+08  &  9.90e+05 & 6.16e+05\n",
        "52  &  4034 &    14  &  2.73e+04 & 1.70e+04  &  5.98e+07 & 7.96e+05  &  4.04e+08 & 2.52e+08  &  1.01e+06 & 6.29e+05\n",
        "66  &  2692 &    10  &  1.82e+04 & 1.13e+04  &  5.77e+07 & 9.07e+05  &  3.90e+08 & 2.43e+08  &  9.75e+05 & 6.07e+05\n",
        "4.28e+08 & 1.34e+08\n",
        "1.07e+06 & 3.35e+05\n"
       ]
      }
     ],
     "prompt_number": 59
    },
    {
     "cell_type": "code",
     "collapsed": false,
     "input": [
      "def print_rate_per_watt(rate_dict):\n",
      "    x = acceptance*efficiency\n",
      "    fmt = \"{fid} & {a.value:7.3e} & {a.error:7.2e}\"\n",
      "    summed = ValueWithError(0)\n",
      "    for fid in (\"448\", \"451\", \"452\", \"455\", \"458\", \"459\"):\n",
      "        adj = rate_dict[fid]/x\n",
      "        per_w = (1000/400)*adj/beam_fraction[fid]\n",
      "        summed += per_w\n",
      "        print fmt.format(fid=fid, a=per_w)\n",
      "    print \"{a.value:7.3e} & {a.error:7.2e}\".format(a=summed/6.0)\n",
      "\n",
      "print 'THIS IS BORKED SOMEHOW DONT USE IT!'\n",
      "# THIS IS BORKED SOMEHOW DONT USE IT!"
     ],
     "language": "python",
     "metadata": {},
     "outputs": [
      {
       "output_type": "stream",
       "stream": "stdout",
       "text": [
        "THIS IS BORKED SOMEHOW DONT USE IT!\n"
       ]
      }
     ],
     "prompt_number": 17
    },
    {
     "cell_type": "code",
     "collapsed": false,
     "input": [
      "print_rate_per_watt(rates_sum)"
     ],
     "language": "python",
     "metadata": {},
     "outputs": [
      {
       "output_type": "stream",
       "stream": "stdout",
       "text": [
        "448 & 1.043e+06 & 6.49e+05\n",
        "451 & 7.830e+05 & 4.87e+05\n",
        "452 & 8.003e+05 & 4.98e+05\n",
        "455 & 8.089e+05 & 5.03e+05\n",
        "458 & 7.715e+05 & 4.80e+05\n",
        "459 & 7.889e+05 & 4.91e+05\n",
        "8.326e+05 & 2.13e+05\n"
       ]
      }
     ],
     "prompt_number": 18
    },
    {
     "cell_type": "code",
     "collapsed": false,
     "input": [],
     "language": "python",
     "metadata": {},
     "outputs": [],
     "prompt_number": 9
    }
   ],
   "metadata": {}
  }
 ]
}