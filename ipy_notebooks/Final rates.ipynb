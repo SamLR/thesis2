{
 "metadata": {
  "name": "Final rates"
 },
 "nbformat": 3,
 "nbformat_minor": 0,
 "worksheets": [
  {
   "cells": [
    {
     "cell_type": "markdown",
     "metadata": {},
     "source": [
      "## Aim ##\n",
      "Calculation of the total muon flux as measured by each run then as a combined measurement"
     ]
    },
    {
     "cell_type": "code",
     "collapsed": false,
     "input": [
      "from ValueWithError import ValueWithError"
     ],
     "language": "python",
     "metadata": {},
     "outputs": [],
     "prompt_number": 3
    },
    {
     "cell_type": "code",
     "collapsed": false,
     "input": [
      "total_muons = ValueWithError(95719)\n",
      "\n",
      "n_muons_sim = {  \n",
      "            '448': ValueWithError(7809),\n",
      "            '451': ValueWithError(7041),\n",
      "            '452': ValueWithError(7041),\n",
      "            '455': ValueWithError(6453),\n",
      "            '458': ValueWithError(4465),\n",
      "            '459': ValueWithError(4465),\n",
      "             }\n",
      "\n",
      "beam_fraction = {k: v/total_muons for k,v in n_muons_sim.items()}\n",
      "for k in (\"448\", \"451\", \"452\", \"455\", \"458\", \"459\"):\n",
      "    print \"{k:5s} {v.value: 6.3f}% {v.error: 6.3f}%\".format(k=k, v=beam_fraction[k]*100)"
     ],
     "language": "python",
     "metadata": {},
     "outputs": [
      {
       "output_type": "stream",
       "stream": "stdout",
       "text": [
        "448    8.158%  0.096%\n",
        "451    7.356%  0.091%\n",
        "452    7.356%  0.091%\n",
        "455    6.742%  0.087%\n",
        "458    4.665%  0.071%\n",
        "459    4.665%  0.071%\n"
       ]
      }
     ],
     "prompt_number": 16
    },
    {
     "cell_type": "code",
     "collapsed": false,
     "input": [
      "rates_f = {\n",
      "        \"448\":  ValueWithError(6065, 15),\n",
      "        \"451\":  ValueWithError(4080, 33),\n",
      "        \"452\":  ValueWithError(4161, 15),\n",
      "        \"455\":  ValueWithError(3847, 13),\n",
      "        \"458\":  ValueWithError(2502, 10),\n",
      "        \"459\":  ValueWithError(2550, 15)\n",
      "        }\n",
      "\n",
      "rates_cu = {\n",
      "        \"448\":  ValueWithError(228.5, 4.6),\n",
      "        \"451\":  ValueWithError(180.2, 10.3),\n",
      "        \"452\":  ValueWithError(193.6, 5.0),\n",
      "        \"455\":  ValueWithError(186.6, 4.1),\n",
      "        \"458\":  ValueWithError(160.1, 3.5),\n",
      "        \"459\":  ValueWithError(172.1, 5.3)\n",
      "        }\n",
      "\n",
      "rates_sum = {k: v+rates_cu[k] for k,v in rates_f.items() }\n",
      "\n",
      "efficiency = ValueWithError(0.431, 0.067)**2\n",
      "acceptance = ValueWithError(8362)/ValueWithError(10500)"
     ],
     "language": "python",
     "metadata": {},
     "outputs": [],
     "prompt_number": 13
    },
    {
     "cell_type": "code",
     "collapsed": false,
     "input": [
      "def print_loop(rate_dict):\n",
      "    x = acceptance*efficiency\n",
      "    fmt = \"{fid} & {a.value:5.0f} & {a.error:5.0f}  &  {b.value:8.2e} & {b.error:8.2e}  &  \"+\\\n",
      "            \"{c.value:8.2e} & {c.error:8.2e}  &  {d.value:8.2e} & {d.error:8.2e}\"\n",
      "    summed = ValueWithError(0)\n",
      "    for fid in (\"448\", \"451\", \"452\", \"455\", \"458\", \"459\"):\n",
      "        adj = rate_dict[fid]/x\n",
      "        scaled = 1000*rate_dict[fid]/beam_fraction[fid] \n",
      "        adj_scaled = 1000*adj/beam_fraction[fid]\n",
      "        summed += adj_scaled\n",
      "        print fmt.format(fid=fid, a=rate_dict[fid], b=adj, c=scaled, d=adj_scaled)\n",
      "    print \"{d.value:8.2e} & {d.error:8.2e}\".format(d=summed/6)"
     ],
     "language": "python",
     "metadata": {},
     "outputs": [],
     "prompt_number": 34
    },
    {
     "cell_type": "code",
     "collapsed": false,
     "input": [
      "print u\"Acceptance: ({a.value:.1f} \\u00B1 {a.error:0.1f})%\".format(a = 100*acceptance)\n",
      "print u\"Efficiency: ({e.value:.1f} \\u00B1 {e.error:0.1f})%\".format(e = 100*efficiency)\n",
      "\n",
      "print '\\n', \"*\"*40, '\\n'\n",
      "\n",
      "print_loop(rates_f)\n",
      "print '\\n', \"*\"*40, '\\n'\n",
      "print_loop(rates_cu)\n",
      "\n",
      "print '\\n', \"*\"*40, '\\n'\n",
      "print_loop(rates_sum)\n"
     ],
     "language": "python",
     "metadata": {},
     "outputs": [
      {
       "output_type": "stream",
       "stream": "stdout",
       "text": [
        "Acceptance: (79.6 \u00b1 1.2)%\n",
        "Efficiency: (18.6 \u00b1 5.8)%\n",
        "\n",
        "**************************************** \n",
        "\n",
        "448 &  6065 &    15  &  4.10e+04 & 1.28e+04  &  7.43e+07 & 8.94e+05  &  5.03e+08 & 1.57e+08\n",
        "451 &  4080 &    33  &  2.76e+04 & 8.59e+03  &  5.55e+07 & 8.19e+05  &  3.75e+08 & 1.17e+08\n",
        "452 &  4161 &    15  &  2.81e+04 & 8.76e+03  &  5.66e+07 & 7.28e+05  &  3.82e+08 & 1.19e+08\n",
        "455 &  3847 &    13  &  2.60e+04 & 8.09e+03  &  5.71e+07 & 7.59e+05  &  3.86e+08 & 1.20e+08\n",
        "458 &  2502 &    10  &  1.69e+04 & 5.26e+03  &  5.36e+07 & 8.49e+05  &  3.63e+08 & 1.13e+08\n",
        "459 &  2550 &    15  &  1.72e+04 & 5.37e+03  &  5.47e+07 & 8.97e+05  &  3.70e+08 & 1.15e+08\n",
        "3.96e+08 & 5.08e+07\n",
        "\n",
        "**************************************** \n",
        "\n",
        "448 &   228 &     5  &  1.54e+03 & 4.82e+02  &  2.80e+06 & 6.53e+04  &  1.89e+07 & 5.91e+06\n",
        "451 &   180 &    10  &  1.22e+03 & 3.85e+02  &  2.45e+06 & 1.43e+05  &  1.66e+07 & 5.24e+06\n",
        "452 &   194 &     5  &  1.31e+03 & 4.09e+02  &  2.63e+06 & 7.53e+04  &  1.78e+07 & 5.56e+06\n",
        "455 &   187 &     4  &  1.26e+03 & 3.94e+02  &  2.77e+06 & 7.05e+04  &  1.87e+07 & 5.84e+06\n",
        "458 &   160 &     4  &  1.08e+03 & 3.38e+02  &  3.43e+06 & 9.16e+04  &  2.32e+07 & 7.25e+06\n",
        "459 &   172 &     5  &  1.16e+03 & 3.64e+02  &  3.69e+06 & 1.27e+05  &  2.49e+07 & 7.81e+06\n",
        "2.00e+07 & 2.59e+06\n",
        "\n",
        "**************************************** \n",
        "\n",
        "448 &  6294 &    16  &  4.25e+04 & 1.32e+04  &  7.71e+07 & 9.28e+05  &  5.21e+08 & 1.62e+08\n",
        "451 &  4260 &    35  &  2.88e+04 & 8.97e+03  &  5.79e+07 & 8.56e+05  &  3.91e+08 & 1.22e+08\n",
        "452 &  4355 &    16  &  2.94e+04 & 9.16e+03  &  5.92e+07 & 7.62e+05  &  4.00e+08 & 1.25e+08\n",
        "455 &  4034 &    14  &  2.73e+04 & 8.49e+03  &  5.98e+07 & 7.96e+05  &  4.04e+08 & 1.26e+08\n",
        "458 &  2662 &    11  &  1.80e+04 & 5.60e+03  &  5.71e+07 & 9.03e+05  &  3.86e+08 & 1.20e+08\n",
        "459 &  2722 &    16  &  1.84e+04 & 5.73e+03  &  5.84e+07 & 9.56e+05  &  3.94e+08 & 1.23e+08\n",
        "4.16e+08 & 5.33e+07\n"
       ]
      }
     ],
     "prompt_number": 35
    },
    {
     "cell_type": "code",
     "collapsed": false,
     "input": [
      "def print_rate_per_watt(rate_dict):\n",
      "    x = acceptance*efficiency\n",
      "    fmt = \"{fid} & {a.value:7.3e} & {a.error:7.2e}\"\n",
      "    summed = ValueWithError(0)\n",
      "    for fid in (\"448\", \"451\", \"452\", \"455\", \"458\", \"459\"):\n",
      "        adj = rate_dict[fid]/x\n",
      "        per_w = (1000/400)*adj/beam_fraction[fid]\n",
      "        summed += per_w\n",
      "        print fmt.format(fid=fid, a=per_w)\n",
      "    print \"{a.value:7.3e} & {a.error:7.2e}\".format(a=summed/6.0)"
     ],
     "language": "python",
     "metadata": {},
     "outputs": [],
     "prompt_number": 32
    },
    {
     "cell_type": "code",
     "collapsed": false,
     "input": [
      "print_rate_per_watt(rates_sum)"
     ],
     "language": "python",
     "metadata": {},
     "outputs": [
      {
       "output_type": "stream",
       "stream": "stdout",
       "text": [
        "448 & 1.043e+06 & 3.25e+05\n",
        "451 & 7.830e+05 & 2.44e+05\n",
        "452 & 8.003e+05 & 2.49e+05\n",
        "455 & 8.089e+05 & 2.52e+05\n",
        "458 & 7.715e+05 & 2.40e+05\n",
        "459 & 7.889e+05 & 2.46e+05\n",
        "8.326e+05 & 1.07e+05\n"
       ]
      }
     ],
     "prompt_number": 33
    },
    {
     "cell_type": "code",
     "collapsed": false,
     "input": [],
     "language": "python",
     "metadata": {},
     "outputs": [],
     "prompt_number": 9
    }
   ],
   "metadata": {}
  }
 ]
}