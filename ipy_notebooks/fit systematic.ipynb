{
 "metadata": {
  "name": "fit systematic"
 },
 "nbformat": 3,
 "nbformat_minor": 0,
 "worksheets": [
  {
   "cells": [
    {
     "cell_type": "code",
     "collapsed": false,
     "input": [
      "normal_key = '50_16'\n",
      "files = {\"50_32\":\"analysis_g4bl_sin_phase_exec_d4_d5_l_bound50bin_32tight\", # Fewer bins\n",
      "         \"50_8\" :\"analysis_g4bl_sin_phase_exec_d4_d5_l_bound50bin_8tight\",  # More bins\n",
      "         \"75_16\":\"analysis_g4bl_sin_phase_exec_d4_d5_l_bound75bin_16tight\", # Larger l_bound\n",
      "         \"50_16\":\"analysis_g4bl_sin_phase_exec_d4_d5_l_bound50bin_16tight\"} # Normal\n",
      "\n",
      "fmt = \"/Users/scook/code/MuSIC/offline_analysis_music5/MuSIC5_offline_analysis\"+\\\n",
      "      \"/MuSIC5_offline_analysis/scripts/output_txt/{}/rates_and_integrals.txt\"\n",
      "\n",
      "# Want to calculate the variance in the final counts for each file"
     ],
     "language": "python",
     "metadata": {},
     "outputs": [],
     "prompt_number": 49
    },
    {
     "cell_type": "code",
     "collapsed": false,
     "input": [
      "from ValueWithError import ValueWithError as Value\n",
      "from math import fabs"
     ],
     "language": "python",
     "metadata": {},
     "outputs": [],
     "prompt_number": 50
    },
    {
     "cell_type": "code",
     "collapsed": false,
     "input": [
      "def read_file(file_name):\n",
      "    res = {}\n",
      "    with open(file_name, 'r') as in_file:\n",
      "        for line in in_file:\n",
      "            if line[0] == 'i':\n",
      "                # Skip the header line\n",
      "                continue\n",
      "            elif line[0] == '-':\n",
      "                # Skip per/channel lines\n",
      "                continue\n",
      "            elif line[0] == '*':\n",
      "                # Stop because we've finished with the rates\n",
      "                break\n",
      "            else:\n",
      "                id, dz, ch, cu, f = line.split('|')\n",
      "                id = id.strip() + '_' + dz.strip()\n",
      "                vals = {'c':cu, 'f':f}\n",
      "                for v in vals:\n",
      "                    value, error = vals[v].split('+/-')\n",
      "                    vals[v] = Value(float(value), float(error))\n",
      "                res[id] = vals\n",
      "                \n",
      "    return res"
     ],
     "language": "python",
     "metadata": {},
     "outputs": [],
     "prompt_number": 51
    },
    {
     "cell_type": "code",
     "collapsed": false,
     "input": [
      "def process_all():\n",
      "    res = {}\n",
      "    for f_id, f in files.items():\n",
      "        file_name = fmt.format(f)\n",
      "        res[f_id] = read_file(file_name)\n",
      "    return res"
     ],
     "language": "python",
     "metadata": {},
     "outputs": [],
     "prompt_number": 52
    },
    {
     "cell_type": "code",
     "collapsed": false,
     "input": [
      "def calc (rate, dz, default, key):\n",
      "    return fabs(default[dz][key]-rate[key])\n",
      "\n",
      "def calc_systematic (data):\n",
      "    default = data[normal_key]\n",
      "    for d in data:\n",
      "        for dz, rates in data[d].items():\n",
      "            c_val, f_val = calc(rates, dz, default, 'c'), calc(rates, dz, default, 'f')\n",
      "            rates['c_dif'] = c_val # difference from the 'actual' (i.e. 50ns start & 16ns bins) values\n",
      "            rates['f_dif'] = f_val"
     ],
     "language": "python",
     "metadata": {},
     "outputs": [],
     "prompt_number": 53
    },
    {
     "cell_type": "code",
     "collapsed": false,
     "input": [
      "res = {}\n",
      "data = process_all()\n",
      "calc_systematic(data)"
     ],
     "language": "python",
     "metadata": {},
     "outputs": [],
     "prompt_number": 54
    },
    {
     "cell_type": "code",
     "collapsed": false,
     "input": [
      "for d in data:\n",
      "    print d\n",
      "    fmt = \"{:7s}  &  {:5.2f}  &  {:5.2f}\"\n",
      "    for dz in (\"448_0\", \"451_0.5\", \"452_0.5\", \"455_1\", \"458_5\", \"459_5\"):\n",
      "        vals = (dz, data[d][dz]['c'].value, data[d][dz]['f'].value)\n",
      "        print fmt.format(*vals)\n",
      "    \n",
      "print '*' * 80, '\\n\\n\\n'\n",
      "fmt = \"{:7s}  &  {:6.2f}  &  {:6.2f}  &  {:6.4f}  &  {:6.2f}  &  {:6.2f}  &  {:6.4f}  \"\n",
      "#for d in (\"50_32\", \"50_8\", \"75_16\"):\n",
      "for d in data:\n",
      "    print d\n",
      "    for dz in (\"448_0\", \"451_0.5\", \"452_0.5\", \"455_1\", \"458_5\", \"459_5\"):\n",
      "        rates = data[d][dz]\n",
      "        # (Actual value - peturbed value)/actual value == fraction perturbation == systematic error to due fitting?\n",
      "        sys_c = data[d][dz]['c_dif']/data['50_16'][dz]['c'].value # the actual error (I think?) \n",
      "        sys_f = data[d][dz]['f_dif']/data['50_16'][dz]['f'].value\n",
      "        vals = (dz, data[d][dz]['c'].value, data[d][dz]['c_dif'], sys_c , \\\n",
      "data[d][dz]['f'].value, data[d][dz]['f_dif'], sys_f)\n",
      "        print fmt.format(*vals)\n",
      "\n",
      "    "
     ],
     "language": "python",
     "metadata": {},
     "outputs": [
      {
       "output_type": "stream",
       "stream": "stdout",
       "text": [
        "50_32\n",
        "448_0    &  184.25  &  6097.10\n",
        "451_0.5  &  139.95  &  4103.83\n",
        "452_0.5  &  148.37  &  4191.79\n",
        "455_1    &  141.78  &  3874.43\n",
        "458_5    &  110.46  &  2530.72\n",
        "459_5    &  126.63  &  2577.57\n",
        "50_8\n",
        "448_0    &  228.66  &  6064.08\n",
        "451_0.5  &  179.62  &  4080.08\n",
        "452_0.5  &  193.81  &  4159.70\n",
        "455_1    &  186.84  &  3845.32\n",
        "458_5    &  160.44  &  2502.20\n",
        "459_5    &  172.77  &  2549.44\n",
        "50_16\n",
        "448_0    &  228.49  &  6064.77\n",
        "451_0.5  &  180.16  &  4079.80\n",
        "452_0.5  &  193.64  &  4160.99\n",
        "455_1    &  186.62  &  3846.68\n",
        "458_5    &  160.10  &  2502.30\n",
        "459_5    &  172.13  &  2550.23\n",
        "75_16\n",
        "448_0    &  132.05  &  6047.05\n",
        "451_0.5  &  93.76  &  4078.37\n",
        "452_0.5  &  105.99  &  4157.79\n",
        "455_1    &  99.67  &  3846.58\n",
        "458_5    &  70.68  &  2517.28\n",
        "459_5    &  84.21  &  2561.92\n",
        "******************************************************************************** \n",
        "\n",
        "\n",
        "\n",
        "50_32\n",
        "448_0    &  184.25  &   44.24  &  0.1936  &  6097.10  &   32.33  &  0.0053  \n",
        "451_0.5  &  139.95  &   40.21  &  0.2232  &  4103.83  &   24.03  &  0.0059  \n",
        "452_0.5  &  148.37  &   45.27  &  0.2338  &  4191.79  &   30.81  &  0.0074  \n",
        "455_1    &  141.78  &   44.84  &  0.2403  &  3874.43  &   27.75  &  0.0072  \n",
        "458_5    &  110.46  &   49.63  &  0.3100  &  2530.72  &   28.42  &  0.0114  \n",
        "459_5    &  126.63  &   45.50  &  0.2643  &  2577.57  &   27.34  &  0.0107  \n",
        "50_8\n",
        "448_0    &  228.66  &    0.17  &  0.0007  &  6064.08  &    0.69  &  0.0001  \n",
        "451_0.5  &  179.62  &    0.54  &  0.0030  &  4080.08  &    0.27  &  0.0001  \n",
        "452_0.5  &  193.81  &    0.17  &  0.0009  &  4159.70  &    1.28  &  0.0003  \n",
        "455_1    &  186.84  &    0.22  &  0.0012  &  3845.32  &    1.36  &  0.0004  \n",
        "458_5    &  160.44  &    0.35  &  0.0022  &  2502.20  &    0.11  &  0.0000  \n",
        "459_5    &  172.77  &    0.64  &  0.0037  &  2549.44  &    0.79  &  0.0003  \n",
        "50_16\n",
        "448_0    &  228.49  &    0.00  &  0.0000  &  6064.77  &    0.00  &  0.0000  \n",
        "451_0.5  &  180.16  &    0.00  &  0.0000  &  4079.80  &    0.00  &  0.0000  \n",
        "452_0.5  &  193.64  &    0.00  &  0.0000  &  4160.99  &    0.00  &  0.0000  \n",
        "455_1    &  186.62  &    0.00  &  0.0000  &  3846.68  &    0.00  &  0.0000  \n",
        "458_5    &  160.10  &    0.00  &  0.0000  &  2502.30  &    0.00  &  0.0000  \n",
        "459_5    &  172.13  &    0.00  &  0.0000  &  2550.23  &    0.00  &  0.0000  \n",
        "75_16\n",
        "448_0    &  132.05  &   96.44  &  0.4221  &  6047.05  &   17.72  &  0.0029  \n",
        "451_0.5  &   93.76  &   86.39  &  0.4796  &  4078.37  &    1.43  &  0.0004  \n",
        "452_0.5  &  105.99  &   87.66  &  0.4527  &  4157.79  &    3.20  &  0.0008  \n",
        "455_1    &   99.67  &   86.95  &  0.4659  &  3846.58  &    0.10  &  0.0000  \n",
        "458_5    &   70.68  &   89.41  &  0.5585  &  2517.28  &   14.97  &  0.0060  \n",
        "459_5    &   84.21  &   87.92  &  0.5108  &  2561.92  &   11.69  &  0.0046  \n"
       ]
      }
     ],
     "prompt_number": 59
    },
    {
     "cell_type": "code",
     "collapsed": false,
     "input": [],
     "language": "python",
     "metadata": {},
     "outputs": [],
     "prompt_number": 55
    }
   ],
   "metadata": {}
  }
 ]
}