{
 "metadata": {
  "name": "Primakoff-goulard"
 },
 "nbformat": 3,
 "nbformat_minor": 0,
 "worksheets": [
  {
   "cells": [
    {
     "cell_type": "code",
     "collapsed": false,
     "input": [
      "from math import fabs"
     ],
     "language": "python",
     "metadata": {},
     "outputs": [],
     "prompt_number": 1
    },
    {
     "cell_type": "code",
     "collapsed": false,
     "input": [
      "zeff = ( 1.,1.98,2.95,3.89,4.8,5.72,6.61,7.49,8.32,9.12,9.95,10.69,11.48,12.22,\n",
      "    12.91,13.64,14.24,14.89,15.53,16.15,16.75,17.38,18.04,18.49,\n",
      "    19.06,19.59,20.1,20.66,21.12,21.61,22.02,22.43,22.84,23.24,\n",
      "    23.65,24.06,24.47,24.85,25.23,25.61,25.99,26.37,26.69,27.,\n",
      "    27.32,27.63,27.95,28.2,28.42,28.64,28.79,29.03,29.27,29.51,\n",
      "    29.75,29.99,30.2,30.36,30.53,30.69,30.85,31.01,31.18,31.34,\n",
      "    31.48,31.62,31.76,31.9,32.05,32.19,32.33,32.47,32.61,32.76,\n",
      "    32.94,33.11,33.29,33.46,33.64,33.81,34.21,34.18,34.,34.1,\n",
      "    34.21,34.31,34.42,34.52,34.63,34.73,34.84,34.94,35.04,35.15,\n",
      "    35.25,35.36,35.46,35.57,35.67,35.78)\n",
      "\n",
      "def PG (Z, A):\n",
      "  \"\"\"Value is captures per us (rather than std which is 10^6 per s)\"\"\"\n",
      "  Z,A = float(Z), float(A)  \n",
      "  i = int(Z) - 1\n",
      "  if(i > 99): i = 99\n",
      "\n",
      "  b0a = -.03\n",
      "  b0b = -.25\n",
      "  b0c = 3.24\n",
      "  t1 = 875.e-10\n",
      "  r1 = zeff[i]\n",
      "  zeff2 = r1 * r1\n",
      "  # ^-4 -> ^-5 suggested by use\n",
      "  xmu = zeff2 * 2.663e-5\n",
      "  a2ze = 0.5 * A / Z\n",
      "  r2 = 1.0 - xmu\n",
      "  res = t1 * zeff2 * zeff2 * (r2 * r2) * (1.0 - (1.0 - xmu) * .75704) *\\\n",
      "          (a2ze * b0a + 1.0 - (a2ze - 1.0) * b0b -\\\n",
      "          (2.0 * (A - Z)  + fabs(a2ze - 1.) ) * b0c / (A * 4.) )\n",
      "  return res"
     ],
     "language": "python",
     "metadata": {},
     "outputs": [],
     "prompt_number": 77
    },
    {
     "cell_type": "code",
     "collapsed": false,
     "input": [
      "Z, A = 29, 63\n",
      "rate = PG(Z,A)\n",
      "print rate, (A-Z)/2*A\n",
      "print 10**-9/rate"
     ],
     "language": "python",
     "metadata": {},
     "outputs": [
      {
       "output_type": "stream",
       "stream": "stdout",
       "text": [
        "0.000486398398213 1071\n",
        "2.0559278231e-06\n"
       ]
      }
     ],
     "prompt_number": 78
    },
    {
     "cell_type": "code",
     "collapsed": false,
     "input": [
      "def PG2(Z, A):\n",
      "    z4 = (zeff[Z-1])**4\n",
      "    Z,A = float(Z), float(A)\n",
      "    G1 = 261.0  #252    #\n",
      "    G2 = -0.040 #-0.038 #\n",
      "    G3 = -0.26  #-0.24  #\n",
      "    G4 = 3.24   #3.24   #\n",
      "    z2 = 2*Z\n",
      "    res = z4*G1*(1+ G2*(A/z2) - G3*((A-z2)/z2) - G4*((A-Z)/(2*A) + (A-z2)/(8*A*Z)))\n",
      "    return res/10**6\n",
      "    "
     ],
     "language": "python",
     "metadata": {},
     "outputs": [],
     "prompt_number": 81
    },
    {
     "cell_type": "code",
     "collapsed": false,
     "input": [
      "Z, A = 29, 63\n",
      "rate = PG2(Z,A)\n",
      "print rate\n",
      "print 10**-6/rate"
     ],
     "language": "python",
     "metadata": {},
     "outputs": [
      {
       "output_type": "stream",
       "stream": "stdout",
       "text": [
        "5.37843753789\n",
        "1.85927603129e-07\n"
       ]
      }
     ],
     "prompt_number": 82
    },
    {
     "cell_type": "code",
     "collapsed": false,
     "input": [],
     "language": "python",
     "metadata": {},
     "outputs": []
    }
   ],
   "metadata": {}
  }
 ]
}