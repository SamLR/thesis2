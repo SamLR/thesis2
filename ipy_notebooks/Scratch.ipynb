{
 "metadata": {
  "name": "Scratch"
 },
 "nbformat": 3,
 "nbformat_minor": 0,
 "worksheets": [
  {
   "cells": [
    {
     "cell_type": "code",
     "collapsed": false,
     "input": [
      "from math import exp, e, log"
     ],
     "language": "python",
     "metadata": {},
     "outputs": [],
     "prompt_number": 2
    },
    {
     "cell_type": "code",
     "collapsed": false,
     "input": [
      "cu_tau, f_tau = 163.5, 2197.0\n",
      "pion_tau = 26.003"
     ],
     "language": "python",
     "metadata": {},
     "outputs": [],
     "prompt_number": 3
    },
    {
     "cell_type": "code",
     "collapsed": false,
     "input": [
      "print 1.0 - exp(-50.0/pion_tau))\n",
      "print 1.0 - exp(-50.0/cu_tau)\n",
      "print 1.0 - exp(-50.0/f_tau)"
     ],
     "language": "python",
     "metadata": {},
     "outputs": [
      {
       "output_type": "stream",
       "stream": "stdout",
       "text": [
        "45251.9836298\n",
        "0.263473746602\n",
        "1951.08685297\n"
       ]
      }
     ],
     "prompt_number": 17
    },
    {
     "cell_type": "code",
     "collapsed": false,
     "input": [
      "print round(123456,-3)\n",
      "print round(0.12345,-3)"
     ],
     "language": "python",
     "metadata": {},
     "outputs": [
      {
       "output_type": "stream",
       "stream": "stdout",
       "text": [
        "123000.0\n",
        "0.0\n"
       ]
      }
     ],
     "prompt_number": 5
    },
    {
     "cell_type": "code",
     "collapsed": false,
     "input": [
      "from math import log10, floor, fabs\n",
      "def sig_fig(x,s):\n",
      "    return round(x, -(int(floor(log10(x))-s+1)))"
     ],
     "language": "python",
     "metadata": {},
     "outputs": [],
     "prompt_number": 6
    },
    {
     "cell_type": "code",
     "collapsed": false,
     "input": [
      "print sig_fig(0.0000012345,1)\n",
      "print sig_fig(0.0000019345,1)\n",
      "print sig_fig(12345,1)\n",
      "print sig_fig(19345,1)\n",
      "print sig_fig(1.2345,1)\n",
      "print sig_fig(1.9345,1)\n",
      "print sig_fig(0.12345,1)"
     ],
     "language": "python",
     "metadata": {},
     "outputs": [
      {
       "output_type": "stream",
       "stream": "stdout",
       "text": [
        "1e-06\n",
        "2e-06\n",
        "10000.0\n",
        "20000.0\n",
        "1.0\n",
        "2.0\n",
        "0.1\n"
       ]
      }
     ],
     "prompt_number": 7
    },
    {
     "cell_type": "code",
     "collapsed": false,
     "input": [
      "print sig_fig(0.0000012345,2)\n",
      "print sig_fig(0.0000019945,2)\n",
      "print sig_fig(12345,2)\n",
      "print sig_fig(19945,2)\n",
      "print sig_fig(1.2345,2)\n",
      "print sig_fig(1.9945,2)\n",
      "print sig_fig(0.12345,2)\n",
      "print sig_fig(-1.9945,2)\n",
      "print sig_fig(-0.12345,2)"
     ],
     "language": "python",
     "metadata": {},
     "outputs": [
      {
       "ename": "ValueError",
       "evalue": "math domain error",
       "output_type": "pyerr",
       "traceback": [
        "\u001b[0;31m---------------------------------------------------------------------------\u001b[0m\n\u001b[0;31mValueError\u001b[0m                                Traceback (most recent call last)",
        "\u001b[0;32m<ipython-input-8-8da98275ee0f>\u001b[0m in \u001b[0;36m<module>\u001b[0;34m()\u001b[0m\n\u001b[1;32m      6\u001b[0m \u001b[0;32mprint\u001b[0m \u001b[0msig_fig\u001b[0m\u001b[0;34m(\u001b[0m\u001b[0;36m1.9945\u001b[0m\u001b[0;34m,\u001b[0m\u001b[0;36m2\u001b[0m\u001b[0;34m)\u001b[0m\u001b[0;34m\u001b[0m\u001b[0m\n\u001b[1;32m      7\u001b[0m \u001b[0;32mprint\u001b[0m \u001b[0msig_fig\u001b[0m\u001b[0;34m(\u001b[0m\u001b[0;36m0.12345\u001b[0m\u001b[0;34m,\u001b[0m\u001b[0;36m2\u001b[0m\u001b[0;34m)\u001b[0m\u001b[0;34m\u001b[0m\u001b[0m\n\u001b[0;32m----> 8\u001b[0;31m \u001b[0;32mprint\u001b[0m \u001b[0msig_fig\u001b[0m\u001b[0;34m(\u001b[0m\u001b[0;34m-\u001b[0m\u001b[0;36m1.9945\u001b[0m\u001b[0;34m,\u001b[0m\u001b[0;36m2\u001b[0m\u001b[0;34m)\u001b[0m\u001b[0;34m\u001b[0m\u001b[0m\n\u001b[0m\u001b[1;32m      9\u001b[0m \u001b[0;32mprint\u001b[0m \u001b[0msig_fig\u001b[0m\u001b[0;34m(\u001b[0m\u001b[0;34m-\u001b[0m\u001b[0;36m0.12345\u001b[0m\u001b[0;34m,\u001b[0m\u001b[0;36m2\u001b[0m\u001b[0;34m)\u001b[0m\u001b[0;34m\u001b[0m\u001b[0m\n",
        "\u001b[0;32m<ipython-input-6-c0d7fd52b97c>\u001b[0m in \u001b[0;36msig_fig\u001b[0;34m(x, s)\u001b[0m\n\u001b[1;32m      1\u001b[0m \u001b[0;32mfrom\u001b[0m \u001b[0mmath\u001b[0m \u001b[0;32mimport\u001b[0m \u001b[0mlog10\u001b[0m\u001b[0;34m,\u001b[0m \u001b[0mfloor\u001b[0m\u001b[0;34m,\u001b[0m \u001b[0mfabs\u001b[0m\u001b[0;34m\u001b[0m\u001b[0m\n\u001b[1;32m      2\u001b[0m \u001b[0;32mdef\u001b[0m \u001b[0msig_fig\u001b[0m\u001b[0;34m(\u001b[0m\u001b[0mx\u001b[0m\u001b[0;34m,\u001b[0m\u001b[0ms\u001b[0m\u001b[0;34m)\u001b[0m\u001b[0;34m:\u001b[0m\u001b[0;34m\u001b[0m\u001b[0m\n\u001b[0;32m----> 3\u001b[0;31m     \u001b[0;32mreturn\u001b[0m \u001b[0mround\u001b[0m\u001b[0;34m(\u001b[0m\u001b[0mx\u001b[0m\u001b[0;34m,\u001b[0m \u001b[0;34m-\u001b[0m\u001b[0;34m(\u001b[0m\u001b[0mint\u001b[0m\u001b[0;34m(\u001b[0m\u001b[0mfloor\u001b[0m\u001b[0;34m(\u001b[0m\u001b[0mlog10\u001b[0m\u001b[0;34m(\u001b[0m\u001b[0mx\u001b[0m\u001b[0;34m)\u001b[0m\u001b[0;34m)\u001b[0m\u001b[0;34m-\u001b[0m\u001b[0ms\u001b[0m\u001b[0;34m+\u001b[0m\u001b[0;36m1\u001b[0m\u001b[0;34m)\u001b[0m\u001b[0;34m)\u001b[0m\u001b[0;34m)\u001b[0m\u001b[0;34m\u001b[0m\u001b[0m\n\u001b[0m",
        "\u001b[0;31mValueError\u001b[0m: math domain error"
       ]
      },
      {
       "output_type": "stream",
       "stream": "stdout",
       "text": [
        "1.2e-06\n",
        "2e-06\n",
        "12000.0\n",
        "20000.0\n",
        "1.2\n",
        "2.0\n",
        "0.12\n"
       ]
      }
     ],
     "prompt_number": 8
    },
    {
     "cell_type": "code",
     "collapsed": false,
     "input": [
      "d = {'a':1,'b':2,'c':3}\n",
      "print '{a} {b}'.format(**d)"
     ],
     "language": "python",
     "metadata": {},
     "outputs": [
      {
       "output_type": "stream",
       "stream": "stdout",
       "text": [
        "1 2\n"
       ]
      }
     ],
     "prompt_number": 9
    },
    {
     "cell_type": "code",
     "collapsed": false,
     "input": [
      "a,b = \"v_r\",\"v_off_r\"\n",
      "print a[:-2],b[:-2]"
     ],
     "language": "python",
     "metadata": {},
     "outputs": [
      {
       "output_type": "stream",
       "stream": "stdout",
       "text": [
        "v v_off\n"
       ]
      }
     ],
     "prompt_number": 10
    },
    {
     "cell_type": "code",
     "collapsed": false,
     "input": [
      "from ValueWithError import  ValueWithError"
     ],
     "language": "python",
     "metadata": {},
     "outputs": [],
     "prompt_number": 1
    },
    {
     "cell_type": "code",
     "collapsed": false,
     "input": [
      "def to_val_with_error(string):\n",
      "    val, er = string.split(\"+/-\")\n",
      "    return ValueWithError(val,er)"
     ],
     "language": "python",
     "metadata": {},
     "outputs": [],
     "prompt_number": 15
    },
    {
     "cell_type": "code",
     "collapsed": false,
     "input": [
      "def get_data(file_name, run_ids):\n",
      "    \"\"\"\n",
      "    Read in a 'rates and integrals' file and get the run info for the \n",
      "    spefified runs (either data or simulation)\n",
      "    \"\"\"\n",
      "    # Quickly pull the info we want for the rate table (pre adjustment) \n",
      "    res = {}\n",
      "    post_counts = False\n",
      "    \n",
      "    with open(file_name, 'r') as data:\n",
      "        for line in data:\n",
      "            line = line.strip()\n",
      "            if line[0] == \"i\" or line[0]==\"-\":\n",
      "                continue\n",
      "            elif line[0] == \"*\":\n",
      "                post_counts = True\n",
      "                continue\n",
      "            line = [i.strip() for i in line.split(\"|\")]\n",
      "            if not line[0] in run_ids:\n",
      "                continue\n",
      "            \n",
      "            r_id, c, f = line[0], line[3], line[4]\n",
      "            \n",
      "            if post_counts:\n",
      "                res[r_id]['f_int'] = to_val_with_error(f)\n",
      "                res[r_id]['c_int'] = to_val_with_error(c)\n",
      "            else:\n",
      "                res[r_id] = {'r_id':r_id}\n",
      "                res[r_id]['f_rate'] = to_val_with_error(f)\n",
      "                res[r_id]['c_rate'] = to_val_with_error(c)\n",
      "    return res\n",
      "            "
     ],
     "language": "python",
     "metadata": {},
     "outputs": [],
     "prompt_number": 16
    },
    {
     "cell_type": "code",
     "collapsed": false,
     "input": [
      "in_file_name = \"/Users/scook/code/MuSIC/offline_analysis_music5/MuSIC5_offline_analysis/\"+\\\n",
      "          \"MuSIC5_offline_analysis/scripts/output_txt/\"+\\\n",
      "          \"analysis_g4bl_sin_phase_exec_d4_d5_l_bound50bin_16tight/\"+\\\n",
      "          \"rates_and_integrals.txt\"\n",
      "run_ids = ('448', '451', '452', '455', '458', '459')\n",
      "fmt = \"{r_id:3s}  &  {c_int.value:>5.0f} & {c_int.error:<3.0f}  \"+\\\n",
      "      \"&  {c_rate.value:>5.1f} & {c_rate.error:<4.1f}  \"+\\\n",
      "      \"&  {f_int.value:>6.0f} & {f_int.error:<4.0f}  \"+\\\n",
      "      \"&  {f_rate.value:>4.0f} & {f_rate.error:<2.0f}  \\\\\"\n",
      "\n",
      "data =  get_data(in_file_name, run_ids)        \n",
      "for k in run_ids:\n",
      "    data_to_print = data[k]\n",
      "    print fmt.format(**data_to_print)"
     ],
     "language": "python",
     "metadata": {},
     "outputs": [
      {
       "ename": "KeyError",
       "evalue": "'c_int'",
       "output_type": "pyerr",
       "traceback": [
        "\u001b[0;31m---------------------------------------------------------------------------\u001b[0m\n\u001b[0;31mKeyError\u001b[0m                                  Traceback (most recent call last)",
        "\u001b[0;32m<ipython-input-17-9c5d3c8eec35>\u001b[0m in \u001b[0;36m<module>\u001b[0;34m()\u001b[0m\n\u001b[1;32m     12\u001b[0m \u001b[0;32mfor\u001b[0m \u001b[0mk\u001b[0m \u001b[0;32min\u001b[0m \u001b[0mrun_ids\u001b[0m\u001b[0;34m:\u001b[0m\u001b[0;34m\u001b[0m\u001b[0m\n\u001b[1;32m     13\u001b[0m     \u001b[0mdata_to_print\u001b[0m \u001b[0;34m=\u001b[0m \u001b[0mdata\u001b[0m\u001b[0;34m[\u001b[0m\u001b[0mk\u001b[0m\u001b[0;34m]\u001b[0m\u001b[0;34m\u001b[0m\u001b[0m\n\u001b[0;32m---> 14\u001b[0;31m     \u001b[0;32mprint\u001b[0m \u001b[0mfmt\u001b[0m\u001b[0;34m.\u001b[0m\u001b[0mformat\u001b[0m\u001b[0;34m(\u001b[0m\u001b[0;34m**\u001b[0m\u001b[0mdata_to_print\u001b[0m\u001b[0;34m)\u001b[0m\u001b[0;34m\u001b[0m\u001b[0m\n\u001b[0m",
        "\u001b[0;31mKeyError\u001b[0m: 'c_int'"
       ]
      }
     ],
     "prompt_number": 17
    },
    {
     "cell_type": "code",
     "collapsed": false,
     "input": [],
     "language": "python",
     "metadata": {},
     "outputs": []
    }
   ],
   "metadata": {}
  }
 ]
}