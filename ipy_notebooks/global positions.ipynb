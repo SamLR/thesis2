{
 "metadata": {
  "name": "global positions"
 },
 "nbformat": 3,
 "nbformat_minor": 0,
 "worksheets": [
  {
   "cells": [
    {
     "cell_type": "code",
     "collapsed": false,
     "input": [
      "from math import radians, sin, cos"
     ],
     "language": "python",
     "metadata": {},
     "outputs": [],
     "prompt_number": 2
    },
    {
     "cell_type": "code",
     "collapsed": false,
     "input": [
      "coil8 = {'x':776.3, 'z': 3420.1}\n",
      "angle = radians(36.0);\n",
      "detector_extent = {'dx':400, 'dz':10}"
     ],
     "language": "python",
     "metadata": {},
     "outputs": [],
     "prompt_number": 6
    },
    {
     "cell_type": "code",
     "collapsed": false,
     "input": [
      "def global_pos(dist):\n",
      "    x = dist*sin(angle) + coil8['x']\n",
      "    z = dist*cos(angle) + coil8['z']\n",
      "    return {'x':x, 'z':z}"
     ],
     "language": "python",
     "metadata": {},
     "outputs": [],
     "prompt_number": 12
    },
    {
     "cell_type": "code",
     "collapsed": false,
     "input": [
      "def rotate36(x, z):\n",
      "    _x = x*cos(angle) - z*sin(angle)\n",
      "    _z = x*sin(angle) + z*cos(angle)\n",
      "    return {'x':_x, 'z':_z}"
     ],
     "language": "python",
     "metadata": {},
     "outputs": []
    },
    {
     "cell_type": "code",
     "collapsed": false,
     "input": [
      "centre = global_pos(60+440)\n",
      "print centre"
     ],
     "language": "python",
     "metadata": {},
     "outputs": [
      {
       "output_type": "stream",
       "stream": "stdout",
       "text": [
        "{'x': 1070.1926261462365, 'z': 3824.6084971874734}\n"
       ]
      }
     ],
     "prompt_number": 13
    },
    {
     "cell_type": "code",
     "collapsed": false,
     "input": [],
     "language": "python",
     "metadata": {},
     "outputs": []
    }
   ],
   "metadata": {}
  }
 ]
}